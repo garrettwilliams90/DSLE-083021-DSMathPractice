{
 "cells": [
  {
   "cell_type": "markdown",
   "metadata": {
    "index": 0
   },
   "source": [
    "# Gradient Descent and Linear Algebra Review\n",
    "\n",
    "In this notebook, we review:\n",
    "* Referencing sklearn documentation\n",
    "* `learning rate` - a standard hyperparameter for gradient descent algorithms\n",
    "    * How learning rate impacts a model's fit.\n",
    "* Introductory elements of linear algebra.\n",
    "    * Vector shape\n",
    "    * Dot products\n",
    "    * Numpy arrays"
   ]
  },
  {
   "cell_type": "markdown",
   "metadata": {
    "index": 1
   },
   "source": [
    "In the next cell we import the necessary packages for the notebook and load in a dataset containing information about diatebetes patients. \n",
    "\n",
    "**Data Understanding**\n",
    "\n",
    "The documentation for this dataset provides the following summary:\n",
    "\n",
    "> *Ten baseline variables, age, sex, body mass index, average blood pressure, and six blood serum measurements were obtained for each of n = 442 diabetes patients, as well as the response of interest, a quantitative measure of disease progression one year after baseline.*"
   ]
  },
  {
   "cell_type": "code",
   "execution_count": 1,
   "metadata": {
    "index": 2
   },
   "outputs": [
    {
     "data": {
      "text/html": [
       "<div>\n",
       "<style scoped>\n",
       "    .dataframe tbody tr th:only-of-type {\n",
       "        vertical-align: middle;\n",
       "    }\n",
       "\n",
       "    .dataframe tbody tr th {\n",
       "        vertical-align: top;\n",
       "    }\n",
       "\n",
       "    .dataframe thead th {\n",
       "        text-align: right;\n",
       "    }\n",
       "</style>\n",
       "<table border=\"1\" class=\"dataframe\">\n",
       "  <thead>\n",
       "    <tr style=\"text-align: right;\">\n",
       "      <th></th>\n",
       "      <th>age</th>\n",
       "      <th>sex</th>\n",
       "      <th>bmi</th>\n",
       "      <th>bp</th>\n",
       "      <th>s1</th>\n",
       "      <th>s2</th>\n",
       "      <th>s3</th>\n",
       "      <th>s4</th>\n",
       "      <th>s5</th>\n",
       "      <th>s6</th>\n",
       "      <th>target</th>\n",
       "    </tr>\n",
       "  </thead>\n",
       "  <tbody>\n",
       "    <tr>\n",
       "      <th>0</th>\n",
       "      <td>0.038076</td>\n",
       "      <td>0.050680</td>\n",
       "      <td>0.061696</td>\n",
       "      <td>0.021872</td>\n",
       "      <td>-0.044223</td>\n",
       "      <td>-0.034821</td>\n",
       "      <td>-0.043401</td>\n",
       "      <td>-0.002592</td>\n",
       "      <td>0.019908</td>\n",
       "      <td>-0.017646</td>\n",
       "      <td>151.0</td>\n",
       "    </tr>\n",
       "    <tr>\n",
       "      <th>1</th>\n",
       "      <td>-0.001882</td>\n",
       "      <td>-0.044642</td>\n",
       "      <td>-0.051474</td>\n",
       "      <td>-0.026328</td>\n",
       "      <td>-0.008449</td>\n",
       "      <td>-0.019163</td>\n",
       "      <td>0.074412</td>\n",
       "      <td>-0.039493</td>\n",
       "      <td>-0.068330</td>\n",
       "      <td>-0.092204</td>\n",
       "      <td>75.0</td>\n",
       "    </tr>\n",
       "    <tr>\n",
       "      <th>2</th>\n",
       "      <td>0.085299</td>\n",
       "      <td>0.050680</td>\n",
       "      <td>0.044451</td>\n",
       "      <td>-0.005671</td>\n",
       "      <td>-0.045599</td>\n",
       "      <td>-0.034194</td>\n",
       "      <td>-0.032356</td>\n",
       "      <td>-0.002592</td>\n",
       "      <td>0.002864</td>\n",
       "      <td>-0.025930</td>\n",
       "      <td>141.0</td>\n",
       "    </tr>\n",
       "  </tbody>\n",
       "</table>\n",
       "</div>"
      ],
      "text/plain": [
       "        age       sex       bmi        bp        s1        s2        s3  \\\n",
       "0  0.038076  0.050680  0.061696  0.021872 -0.044223 -0.034821 -0.043401   \n",
       "1 -0.001882 -0.044642 -0.051474 -0.026328 -0.008449 -0.019163  0.074412   \n",
       "2  0.085299  0.050680  0.044451 -0.005671 -0.045599 -0.034194 -0.032356   \n",
       "\n",
       "         s4        s5        s6  target  \n",
       "0 -0.002592  0.019908 -0.017646   151.0  \n",
       "1 -0.039493 -0.068330 -0.092204    75.0  \n",
       "2 -0.002592  0.002864 -0.025930   141.0  "
      ]
     },
     "execution_count": 1,
     "metadata": {},
     "output_type": "execute_result"
    }
   ],
   "source": [
    "# Sklearn's gradient descent linear regression model\n",
    "from sklearn.linear_model import SGDRegressor\n",
    "\n",
    "# Pandas and numpy\n",
    "import pandas as pd\n",
    "import numpy as np\n",
    "\n",
    "# Train test split\n",
    "from sklearn.model_selection import train_test_split\n",
    "\n",
    "# Load Data\n",
    "from sklearn.datasets import load_diabetes\n",
    "data = load_diabetes()\n",
    "df = pd.DataFrame(data['data'], columns=data['feature_names'])\n",
    "df['target'] = data['target']\n",
    "\n",
    "# Jupyter configuration\n",
    "%config Completer.use_jedi = False\n",
    "\n",
    "df.head(3)"
   ]
  },
  {
   "cell_type": "code",
   "execution_count": 2,
   "metadata": {},
   "outputs": [
    {
     "data": {
      "text/plain": [
       "count    4.420000e+02\n",
       "mean    -3.639623e-16\n",
       "std      4.761905e-02\n",
       "min     -1.072256e-01\n",
       "25%     -3.729927e-02\n",
       "50%      5.383060e-03\n",
       "75%      3.807591e-02\n",
       "max      1.107267e-01\n",
       "Name: age, dtype: float64"
      ]
     },
     "execution_count": 2,
     "metadata": {},
     "output_type": "execute_result"
    }
   ],
   "source": [
    "df['age'].describe()"
   ]
  },
  {
   "cell_type": "markdown",
   "metadata": {
    "index": 3
   },
   "source": [
    "# Gradient Descent "
   ]
  },
  {
   "cell_type": "markdown",
   "metadata": {
    "index": 4
   },
   "source": [
    "## 1. Set up a train test split\n",
    "\n",
    "In the cell below, please create a train test split for this dataset, setting `target` as the response variable and all other columns as independent variables. You may want to do this by creating `X` and `y` variables to then pass into the `train_test_split` function.\n",
    "* Set the random state to `2021`\n",
    "* Use the default for the size of the test set (`test_size=.25`)"
   ]
  },
  {
   "cell_type": "code",
   "execution_count": 3,
   "metadata": {
    "index": 5
   },
   "outputs": [],
   "source": [
    "# Your code here\n",
    "X = df.drop(columns = 'target')\n",
    "y = df['target']"
   ]
  },
  {
   "cell_type": "code",
   "execution_count": 4,
   "metadata": {},
   "outputs": [],
   "source": [
    "\n",
    "X_train, X_test, y_train, y_test = train_test_split(X, y, test_size=0.25, random_state=2021)\n",
    "train_df = pd.concat([X_train, y_train], axis = 1, ignore_index=False)\n",
    "test_df = pd.concat([X_test,y_test], axis = 1, ignore_index=False)"
   ]
  },
  {
   "cell_type": "code",
   "execution_count": 5,
   "metadata": {},
   "outputs": [
    {
     "data": {
      "text/html": [
       "<div>\n",
       "<style scoped>\n",
       "    .dataframe tbody tr th:only-of-type {\n",
       "        vertical-align: middle;\n",
       "    }\n",
       "\n",
       "    .dataframe tbody tr th {\n",
       "        vertical-align: top;\n",
       "    }\n",
       "\n",
       "    .dataframe thead th {\n",
       "        text-align: right;\n",
       "    }\n",
       "</style>\n",
       "<table border=\"1\" class=\"dataframe\">\n",
       "  <thead>\n",
       "    <tr style=\"text-align: right;\">\n",
       "      <th></th>\n",
       "      <th>age</th>\n",
       "      <th>sex</th>\n",
       "      <th>bmi</th>\n",
       "      <th>bp</th>\n",
       "      <th>s1</th>\n",
       "      <th>s2</th>\n",
       "      <th>s3</th>\n",
       "      <th>s4</th>\n",
       "      <th>s5</th>\n",
       "      <th>s6</th>\n",
       "      <th>target</th>\n",
       "    </tr>\n",
       "  </thead>\n",
       "  <tbody>\n",
       "    <tr>\n",
       "      <th>338</th>\n",
       "      <td>-0.063635</td>\n",
       "      <td>-0.044642</td>\n",
       "      <td>-0.033151</td>\n",
       "      <td>-0.033214</td>\n",
       "      <td>0.001183</td>\n",
       "      <td>0.024051</td>\n",
       "      <td>-0.024993</td>\n",
       "      <td>-0.002592</td>\n",
       "      <td>-0.022512</td>\n",
       "      <td>-0.059067</td>\n",
       "      <td>214.0</td>\n",
       "    </tr>\n",
       "    <tr>\n",
       "      <th>90</th>\n",
       "      <td>0.012648</td>\n",
       "      <td>-0.044642</td>\n",
       "      <td>-0.025607</td>\n",
       "      <td>-0.040099</td>\n",
       "      <td>-0.030464</td>\n",
       "      <td>-0.045155</td>\n",
       "      <td>0.078093</td>\n",
       "      <td>-0.076395</td>\n",
       "      <td>-0.072128</td>\n",
       "      <td>0.011349</td>\n",
       "      <td>98.0</td>\n",
       "    </tr>\n",
       "    <tr>\n",
       "      <th>271</th>\n",
       "      <td>0.038076</td>\n",
       "      <td>0.050680</td>\n",
       "      <td>0.008883</td>\n",
       "      <td>0.042530</td>\n",
       "      <td>-0.042848</td>\n",
       "      <td>-0.021042</td>\n",
       "      <td>-0.039719</td>\n",
       "      <td>-0.002592</td>\n",
       "      <td>-0.018118</td>\n",
       "      <td>0.007207</td>\n",
       "      <td>127.0</td>\n",
       "    </tr>\n",
       "  </tbody>\n",
       "</table>\n",
       "</div>"
      ],
      "text/plain": [
       "          age       sex       bmi        bp        s1        s2        s3  \\\n",
       "338 -0.063635 -0.044642 -0.033151 -0.033214  0.001183  0.024051 -0.024993   \n",
       "90   0.012648 -0.044642 -0.025607 -0.040099 -0.030464 -0.045155  0.078093   \n",
       "271  0.038076  0.050680  0.008883  0.042530 -0.042848 -0.021042 -0.039719   \n",
       "\n",
       "           s4        s5        s6  target  \n",
       "338 -0.002592 -0.022512 -0.059067   214.0  \n",
       "90  -0.076395 -0.072128  0.011349    98.0  \n",
       "271 -0.002592 -0.018118  0.007207   127.0  "
      ]
     },
     "execution_count": 5,
     "metadata": {},
     "output_type": "execute_result"
    }
   ],
   "source": [
    "train_df.head(3)"
   ]
  },
  {
   "cell_type": "markdown",
   "metadata": {
    "index": 7
   },
   "source": [
    "## 2. Initialize an SGDRegressor model\n",
    "\n",
    "Now, initialize an `SGDRegressor` model.\n",
    "* Set the random state to `2021`"
   ]
  },
  {
   "cell_type": "code",
   "execution_count": 6,
   "metadata": {
    "index": 8
   },
   "outputs": [],
   "source": [
    "# Your code here\n",
    "sgdr = SGDRegressor(random_state = 2021)"
   ]
  },
  {
   "cell_type": "markdown",
   "metadata": {
    "index": 10
   },
   "source": [
    "## 3. Fit the model\n",
    "\n",
    "In the cell below, fit the model to the training data."
   ]
  },
  {
   "cell_type": "code",
   "execution_count": 7,
   "metadata": {
    "index": 11
   },
   "outputs": [
    {
     "name": "stderr",
     "output_type": "stream",
     "text": [
      "/Users/garrettwilliams/opt/anaconda3/envs/learn-env/lib/python3.8/site-packages/sklearn/linear_model/_stochastic_gradient.py:1208: ConvergenceWarning: Maximum number of iteration reached before convergence. Consider increasing max_iter to improve the fit.\n",
      "  warnings.warn(\"Maximum number of iteration reached before \"\n"
     ]
    },
    {
     "data": {
      "text/plain": [
       "SGDRegressor(random_state=2021)"
      ]
     },
     "execution_count": 7,
     "metadata": {},
     "output_type": "execute_result"
    }
   ],
   "source": [
    "# Your code here\n",
    "#sgdr.fit(X_train) #THIS CAUSED AN ERROR. IT ASKED FOR A Y PARAMETER\n",
    "sgdr.fit(X_train, y_train)"
   ]
  },
  {
   "cell_type": "markdown",
   "metadata": {
    "index": 13
   },
   "source": [
    "At this point in the program, you may have become accustomed to ignoring pink warning messages –– mostly because `pandas` returns many unhelpful warning messages. \n",
    "\n",
    "It is important to state that, generally, you should not default to ignoring warning messages. In this case the above pink warning message is quite informative!\n",
    "\n",
    "The above warning message tells us that our model failed to converge. This means that our model did not find the minima of the cost curve, which we usually want! The warning offers the suggestion:\n",
    "\n",
    "> *Consider increasing max_iter to improve the fit.*\n",
    "\n",
    "\n",
    "`max_iter` is an adjustable hyperparameter for the `SGDRegressor` model.\n",
    "\n",
    "## 4. Explore `max_iter`\n",
    "\n",
    "Let's zoom in on this parameter for a second."
   ]
  },
  {
   "cell_type": "code",
   "execution_count": 8,
   "metadata": {
    "index": 14
   },
   "outputs": [
    {
     "data": {
      "application/vnd.jupyter.widget-view+json": {
       "model_id": "672c9bba166f45aea1413f18ab891701",
       "version_major": 2,
       "version_minor": 0
      },
      "text/plain": [
       "VBox(children=(Output(layout=Layout(bottom='5px', width='auto')), RadioButtons(layout=Layout(flex_flow='column…"
      ]
     },
     "metadata": {},
     "output_type": "display_data"
    }
   ],
   "source": [
    "# Run this cell unchanged\n",
    "from src.questions import *\n",
    "question_4.display()"
   ]
  },
  {
   "cell_type": "markdown",
   "metadata": {
    "index": 15
   },
   "source": [
    "## 5. Update the max_iter\n",
    "\n",
    "In the cell below, initialize a new `SGDRegessor` model with `max_iter` set to `10000`. \n",
    "* Set the random state to `2021`"
   ]
  },
  {
   "cell_type": "code",
   "execution_count": 9,
   "metadata": {
    "index": 16
   },
   "outputs": [],
   "source": [
    "# Your code here\n",
    "sgdr = SGDRegressor(random_state = 2021, max_iter = 10000)"
   ]
  },
  {
   "cell_type": "markdown",
   "metadata": {
    "index": 18
   },
   "source": [
    "The model converged! This tells us that the model just needed to run for longer to reach the minima of the cost curve. \n",
    "\n",
    "\n",
    "But how do you find the necessary number of iterations? \n",
    "\n",
    "In the cell below, we have written some code that shows you how to find the required number of iterations programmatically. This code is mostly being provided in case you ever need it, so don't stress if it feels intimidating!\n",
    "\n",
    "In truth, there is a different hyperparameter we tend to use to help our models converges. "
   ]
  },
  {
   "cell_type": "code",
   "execution_count": 10,
   "metadata": {
    "index": 19
   },
   "outputs": [
    {
     "name": "stdout",
     "output_type": "stream",
     "text": [
      "Max iterations needed for convergence: 6500\n"
     ]
    }
   ],
   "source": [
    "# Run this cell unchanged\n",
    "import warnings\n",
    "\n",
    "# Loop over a range of numbers between 1000 - 10,000\n",
    "for i in range(1000, 10000, 500):\n",
    "    # Catch the ConvergenceWarning\n",
    "    with warnings.catch_warnings():\n",
    "        # If a warning is produced, throw an error instead\n",
    "        warnings.filterwarnings('error')\n",
    "        # Place the model fit inside a try except block to catch the error\n",
    "        try:\n",
    "            model = SGDRegressor(max_iter=i, random_state=2021)\n",
    "            model.fit(X_train, y_train)\n",
    "            # If the model fits without a ConvergenceWarning stop the for loop\n",
    "            break\n",
    "        except Warning:\n",
    "            # If the model returns a ConvergenceWarning, move to the next iteration.\n",
    "            continue\n",
    "            \n",
    "# Print the number of iterations that allowed the model to converge\n",
    "print('Max iterations needed for convergence:', i)"
   ]
  },
  {
   "cell_type": "markdown",
   "metadata": {
    "index": 21
   },
   "source": [
    "### Let's zoom in on the *learning rate*!"
   ]
  },
  {
   "cell_type": "markdown",
   "metadata": {
    "index": 22
   },
   "source": [
    "## 6. What is the default setting for alpha (learning rate) for the `SGDRegressor`? "
   ]
  },
  {
   "cell_type": "code",
   "execution_count": 11,
   "metadata": {
    "index": 23
   },
   "outputs": [
    {
     "data": {
      "application/vnd.jupyter.widget-view+json": {
       "model_id": "220bec5befa44d3e92399b21a1dfeded",
       "version_major": 2,
       "version_minor": 0
      },
      "text/plain": [
       "VBox(children=(Output(layout=Layout(bottom='5px', width='auto')), RadioButtons(layout=Layout(flex_flow='column…"
      ]
     },
     "metadata": {},
     "output_type": "display_data"
    }
   ],
   "source": [
    "# Run this cell unchanged\n",
    "question_6.display()"
   ]
  },
  {
   "cell_type": "markdown",
   "metadata": {},
   "source": [
    "*For the question above, look at the 'alpha' parameter in the class*"
   ]
  },
  {
   "cell_type": "markdown",
   "metadata": {
    "index": 25
   },
   "source": [
    "## 7. Update the alpha to .01 and set the max_iter to 1500"
   ]
  },
  {
   "cell_type": "code",
   "execution_count": 12,
   "metadata": {
    "index": 26
   },
   "outputs": [
    {
     "data": {
      "text/plain": [
       "SGDRegressor(alpha=0.01, learning_rate='optimal', max_iter=1500,\n",
       "             random_state=2021)"
      ]
     },
     "execution_count": 12,
     "metadata": {},
     "output_type": "execute_result"
    }
   ],
   "source": [
    "# Your code here\n",
    "sgdr = SGDRegressor(random_state = 2021, max_iter = 1500, alpha = .01, learning_rate='optimal')\n",
    "sgdr.fit(X_train, y_train)"
   ]
  },
  {
   "cell_type": "markdown",
   "metadata": {},
   "source": [
    "### Lindsey's helpful comment in the slack\n",
    "Hi all! Weird thing about questions 6-9: alpha is an odd term being used for two different things in this algorithm, if you look at sklearn's documentation for the SGDRegressor! <br>\n",
    "For Question 7 - please also use the parameter learning_rate='optimal'"
   ]
  },
  {
   "cell_type": "markdown",
   "metadata": {
    "index": 28
   },
   "source": [
    "## 8. Did the model converge? - True or False"
   ]
  },
  {
   "cell_type": "code",
   "execution_count": 13,
   "metadata": {
    "index": 29
   },
   "outputs": [
    {
     "data": {
      "application/vnd.jupyter.widget-view+json": {
       "model_id": "78a2063d78cb4ae7a505eebbf9e31699",
       "version_major": 2,
       "version_minor": 0
      },
      "text/plain": [
       "VBox(children=(Output(layout=Layout(bottom='5px', width='auto')), RadioButtons(layout=Layout(flex_flow='column…"
      ]
     },
     "metadata": {},
     "output_type": "display_data"
    }
   ],
   "source": [
    "# Run this cell unchanged\n",
    "question_8.display()"
   ]
  },
  {
   "cell_type": "markdown",
   "metadata": {},
   "source": [
    "*We think it converges because we didn't get a pink error*"
   ]
  },
  {
   "cell_type": "markdown",
   "metadata": {
    "index": 31
   },
   "source": [
    "## 9. Select the answer that best describes how alpha impacts a model's fit"
   ]
  },
  {
   "cell_type": "code",
   "execution_count": 14,
   "metadata": {
    "index": 32
   },
   "outputs": [
    {
     "data": {
      "application/vnd.jupyter.widget-view+json": {
       "model_id": "4f0e8adbbe134cd08e5df91fbaa85b8e",
       "version_major": 2,
       "version_minor": 0
      },
      "text/plain": [
       "VBox(children=(Output(layout=Layout(bottom='5px', width='auto')), RadioButtons(layout=Layout(flex_flow='column…"
      ]
     },
     "metadata": {},
     "output_type": "display_data"
    }
   ],
   "source": [
    "# Run this cell unchanged\n",
    "question_9.display()"
   ]
  },
  {
   "cell_type": "markdown",
   "metadata": {},
   "source": [
    "### Lindsey's helpful comment in the slack\n",
    "For Question 9 - discuss alpha as it's being used by learning rate, don't worry about the first sentence in the documentation where it discusses being used as a penalty term"
   ]
  },
  {
   "cell_type": "markdown",
   "metadata": {
    "index": 34
   },
   "source": [
    "# Linear Algebra "
   ]
  },
  {
   "cell_type": "markdown",
   "metadata": {
    "index": 35
   },
   "source": [
    "## 10. When finding the dot product for two vectors, the length of the vectors must be the same."
   ]
  },
  {
   "cell_type": "code",
   "execution_count": 15,
   "metadata": {
    "index": 36
   },
   "outputs": [
    {
     "data": {
      "application/vnd.jupyter.widget-view+json": {
       "model_id": "fb1963d539a2421389aaae54a6270ec7",
       "version_major": 2,
       "version_minor": 0
      },
      "text/plain": [
       "VBox(children=(Output(layout=Layout(bottom='5px', width='auto')), RadioButtons(layout=Layout(flex_flow='column…"
      ]
     },
     "metadata": {},
     "output_type": "display_data"
    }
   ],
   "source": [
    "# Run this cell unchanged\n",
    "question_10.display()"
   ]
  },
  {
   "cell_type": "markdown",
   "metadata": {
    "index": 38
   },
   "source": [
    "## 11. Please select the solution for the dot product of the following vectors.\n",
    "\n",
    "$vector_1 = \\begin{bmatrix} 10&13\\\\ \\end{bmatrix}$\n",
    "\n",
    "$vector_2= \\begin{bmatrix} -4&82\\\\ \\end{bmatrix}$\n"
   ]
  },
  {
   "cell_type": "code",
   "execution_count": 16,
   "metadata": {
    "index": 39
   },
   "outputs": [
    {
     "data": {
      "application/vnd.jupyter.widget-view+json": {
       "model_id": "5237e2aa178b44e3a96c142bc67974b7",
       "version_major": 2,
       "version_minor": 0
      },
      "text/plain": [
       "VBox(children=(Output(layout=Layout(bottom='5px', width='auto')), RadioButtons(layout=Layout(flex_flow='column…"
      ]
     },
     "metadata": {},
     "output_type": "display_data"
    }
   ],
   "source": [
    "# Run this cell unchanged\n",
    "question_11.display()"
   ]
  },
  {
   "cell_type": "markdown",
   "metadata": {
    "index": 41
   },
   "source": [
    "## 12. How do you turn a list into a numpy array?"
   ]
  },
  {
   "cell_type": "code",
   "execution_count": 17,
   "metadata": {
    "index": 42
   },
   "outputs": [
    {
     "data": {
      "application/vnd.jupyter.widget-view+json": {
       "model_id": "cf78f21a28064487b4af74cbdb2d5f0a",
       "version_major": 2,
       "version_minor": 0
      },
      "text/plain": [
       "VBox(children=(Output(layout=Layout(bottom='5px', width='auto')), RadioButtons(layout=Layout(flex_flow='column…"
      ]
     },
     "metadata": {},
     "output_type": "display_data"
    }
   ],
   "source": [
    "# Run this cell unchanged\n",
    "\n",
    "question_12.display()"
   ]
  },
  {
   "cell_type": "markdown",
   "metadata": {
    "index": 43
   },
   "source": [
    "## 13. Please find the dot product of the following vectors"
   ]
  },
  {
   "cell_type": "code",
   "execution_count": 18,
   "metadata": {
    "index": 44
   },
   "outputs": [],
   "source": [
    "vector_1 = [\n",
    "               [ 0.80559827,  0.29916789,  0.39630405,  0.92797795, -0.13808099],\n",
    "               [ 1.7249222 ,  1.59418491,  1.95963002,  0.64988373, -0.08225951],\n",
    "               [-0.50472891,  0.74287965,  1.8927091 ,  0.33783705,  0.94361808],\n",
    "               [ 0.99034854, -1.0526394 , -0.33825968, -0.40148036,  1.81821604],\n",
    "               [-0.7298026 , -0.88302624,  0.49319177, -0.02758864,  0.33430167],\n",
    "               [ 0.85938167, -0.71149948, -1.8434118 ,  0.89097775,  0.53842254]\n",
    "                                                                                    ]\n",
    "\n",
    "\n",
    "vector_2 = [\n",
    "              [ 0.13288805],\n",
    "              [-2.50839814],\n",
    "              [-0.90620828],\n",
    "              [ 0.09841538],\n",
    "              [ 1.86783262],\n",
    "              [ 1.98903307]\n",
    "                               ]"
   ]
  },
  {
   "cell_type": "markdown",
   "metadata": {},
   "source": [
    "#### *MY ANSWER IS WRONG*"
   ]
  },
  {
   "cell_type": "code",
   "execution_count": 19,
   "metadata": {
    "index": 45
   },
   "outputs": [
    {
     "data": {
      "text/plain": [
       "array([[ 2.26183062],\n",
       "       [-4.76584672],\n",
       "       [-3.99252429],\n",
       "       [-3.17338692],\n",
       "       [ 1.0872375 ]])"
      ]
     },
     "execution_count": 19,
     "metadata": {},
     "output_type": "execute_result"
    }
   ],
   "source": [
    "# Your code here\n",
    "vector_1 = np.array(vector_1).reshape(5,6)\n",
    "vector_2 = np.array(vector_2)\n",
    "vector_1.dot(vector_2)"
   ]
  },
  {
   "cell_type": "code",
   "execution_count": 20,
   "metadata": {},
   "outputs": [
    {
     "name": "stdout",
     "output_type": "stream",
     "text": [
      "[[ 0.80559827  0.29916789  0.39630405  0.92797795 -0.13808099  1.7249222 ]\n",
      " [ 1.59418491  1.95963002  0.64988373 -0.08225951 -0.50472891  0.74287965]\n",
      " [ 1.8927091   0.33783705  0.94361808  0.99034854 -1.0526394  -0.33825968]\n",
      " [-0.40148036  1.81821604 -0.7298026  -0.88302624  0.49319177 -0.02758864]\n",
      " [ 0.33430167  0.85938167 -0.71149948 -1.8434118   0.89097775  0.53842254]]\n"
     ]
    }
   ],
   "source": [
    "print(vector_1)"
   ]
  },
  {
   "cell_type": "markdown",
   "metadata": {},
   "source": [
    "#### *Reshape() flattens your numbers into a list and then reshapes all the numbers into the desired shape. I should of used .T to transpose the matrix*"
   ]
  },
  {
   "cell_type": "code",
   "execution_count": 21,
   "metadata": {},
   "outputs": [],
   "source": [
    "#SOLUTION\n",
    "vector_1 = [\n",
    "               [ 0.80559827,  0.29916789,  0.39630405,  0.92797795, -0.13808099],\n",
    "               [ 1.7249222 ,  1.59418491,  1.95963002,  0.64988373, -0.08225951],\n",
    "               [-0.50472891,  0.74287965,  1.8927091 ,  0.33783705,  0.94361808],\n",
    "               [ 0.99034854, -1.0526394 , -0.33825968, -0.40148036,  1.81821604],\n",
    "               [-0.7298026 , -0.88302624,  0.49319177, -0.02758864,  0.33430167],\n",
    "               [ 0.85938167, -0.71149948, -1.8434118 ,  0.89097775,  0.53842254]\n",
    "                                                                                    ]\n",
    "\n",
    "\n",
    "vector_2 = [\n",
    "              [ 0.13288805],\n",
    "              [-2.50839814],\n",
    "              [-0.90620828],\n",
    "              [ 0.09841538],\n",
    "              [ 1.86783262],\n",
    "              [ 1.98903307]\n",
    "                               ]"
   ]
  },
  {
   "cell_type": "code",
   "execution_count": 22,
   "metadata": {},
   "outputs": [
    {
     "data": {
      "text/plain": [
       "array([[-3.31869275],\n",
       "       [-7.80043543],\n",
       "       [-9.35675419],\n",
       "       [-0.13185929],\n",
       "       [ 1.207176  ]])"
      ]
     },
     "execution_count": 22,
     "metadata": {},
     "output_type": "execute_result"
    }
   ],
   "source": [
    "vector_1 = np.array(vector_1)\n",
    "vector_2 = np.array(vector_2)\n",
    "\n",
    "np.dot(vector_1.T, vector_2)"
   ]
  },
  {
   "cell_type": "code",
   "execution_count": null,
   "metadata": {},
   "outputs": [],
   "source": []
  }
 ],
 "metadata": {
  "kernelspec": {
   "display_name": "Python 3",
   "language": "python",
   "name": "python3"
  },
  "language_info": {
   "codemirror_mode": {
    "name": "ipython",
    "version": 3
   },
   "file_extension": ".py",
   "mimetype": "text/x-python",
   "name": "python",
   "nbconvert_exporter": "python",
   "pygments_lexer": "ipython3",
   "version": "3.8.5"
  }
 },
 "nbformat": 4,
 "nbformat_minor": 4
}
